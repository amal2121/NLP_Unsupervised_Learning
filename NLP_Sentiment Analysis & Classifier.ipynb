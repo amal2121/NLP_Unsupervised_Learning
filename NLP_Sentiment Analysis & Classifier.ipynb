{
 "cells": [
  {
   "cell_type": "markdown",
   "id": "862c353b",
   "metadata": {},
   "source": [
    "## Trip Advisor Hotel Reviews"
   ]
  },
  {
   "cell_type": "markdown",
   "id": "c77a3431",
   "metadata": {},
   "source": [
    "### Important lLibraries"
   ]
  },
  {
   "cell_type": "code",
   "execution_count": 1,
   "id": "8b38ae6f",
   "metadata": {},
   "outputs": [],
   "source": [
    "import pandas as pd\n",
    "import numpy as np\n",
    "import re\n",
    "import itertools\n",
    "import time\n",
    "import nltk\n",
    "import matplotlib.pyplot as plt\n",
    "import seaborn as sns"
   ]
  },
  {
   "cell_type": "markdown",
   "id": "386c8a3a",
   "metadata": {},
   "source": [
    "#### Let's read the data"
   ]
  },
  {
   "cell_type": "code",
   "execution_count": 2,
   "id": "d3a5f09a",
   "metadata": {},
   "outputs": [],
   "source": [
    "df = pd.read_csv('Trip_Advisor_cleaned.csv', index_col=0)"
   ]
  },
  {
   "cell_type": "code",
   "execution_count": 3,
   "id": "2793d38e",
   "metadata": {},
   "outputs": [
    {
     "data": {
      "text/html": [
       "<div>\n",
       "<style scoped>\n",
       "    .dataframe tbody tr th:only-of-type {\n",
       "        vertical-align: middle;\n",
       "    }\n",
       "\n",
       "    .dataframe tbody tr th {\n",
       "        vertical-align: top;\n",
       "    }\n",
       "\n",
       "    .dataframe thead th {\n",
       "        text-align: right;\n",
       "    }\n",
       "</style>\n",
       "<table border=\"1\" class=\"dataframe\">\n",
       "  <thead>\n",
       "    <tr style=\"text-align: right;\">\n",
       "      <th></th>\n",
       "      <th>Review</th>\n",
       "      <th>Rating</th>\n",
       "      <th>Review2</th>\n",
       "    </tr>\n",
       "  </thead>\n",
       "  <tbody>\n",
       "    <tr>\n",
       "      <th>0</th>\n",
       "      <td>nice hotel expens park good deal stay hotel an...</td>\n",
       "      <td>4</td>\n",
       "      <td>nice hotel expens park good deal hotel anniver...</td>\n",
       "    </tr>\n",
       "    <tr>\n",
       "      <th>1</th>\n",
       "      <td>noth special charg diamond member hilton decid...</td>\n",
       "      <td>2</td>\n",
       "      <td>noth special charg diamond member hilton decid...</td>\n",
       "    </tr>\n",
       "    <tr>\n",
       "      <th>2</th>\n",
       "      <td>nice room experi hotel monaco seattl good hote...</td>\n",
       "      <td>3</td>\n",
       "      <td>nice room experi hotel monaco seattl good hote...</td>\n",
       "    </tr>\n",
       "    <tr>\n",
       "      <th>3</th>\n",
       "      <td>uniqu great stay wonder time hotel monaco loca...</td>\n",
       "      <td>5</td>\n",
       "      <td>uniqu great wonder hotel monaco locat excel sh...</td>\n",
       "    </tr>\n",
       "    <tr>\n",
       "      <th>4</th>\n",
       "      <td>great stay great stay go seahawk game awesom d...</td>\n",
       "      <td>5</td>\n",
       "      <td>great great seahawk game awesom downfal view b...</td>\n",
       "    </tr>\n",
       "  </tbody>\n",
       "</table>\n",
       "</div>"
      ],
      "text/plain": [
       "                                              Review  Rating  \\\n",
       "0  nice hotel expens park good deal stay hotel an...       4   \n",
       "1  noth special charg diamond member hilton decid...       2   \n",
       "2  nice room experi hotel monaco seattl good hote...       3   \n",
       "3  uniqu great stay wonder time hotel monaco loca...       5   \n",
       "4  great stay great stay go seahawk game awesom d...       5   \n",
       "\n",
       "                                             Review2  \n",
       "0  nice hotel expens park good deal hotel anniver...  \n",
       "1  noth special charg diamond member hilton decid...  \n",
       "2  nice room experi hotel monaco seattl good hote...  \n",
       "3  uniqu great wonder hotel monaco locat excel sh...  \n",
       "4  great great seahawk game awesom downfal view b...  "
      ]
     },
     "execution_count": 3,
     "metadata": {},
     "output_type": "execute_result"
    }
   ],
   "source": [
    "df.head()"
   ]
  },
  {
   "cell_type": "code",
   "execution_count": 4,
   "id": "1db58f10",
   "metadata": {
    "scrolled": true
   },
   "outputs": [
    {
     "data": {
      "text/plain": [
       "Index(['Review', 'Rating', 'Review2'], dtype='object')"
      ]
     },
     "execution_count": 4,
     "metadata": {},
     "output_type": "execute_result"
    }
   ],
   "source": [
    "df.columns"
   ]
  },
  {
   "cell_type": "code",
   "execution_count": 5,
   "id": "19f775bc",
   "metadata": {},
   "outputs": [
    {
     "data": {
      "text/plain": [
       "(20491, 3)"
      ]
     },
     "execution_count": 5,
     "metadata": {},
     "output_type": "execute_result"
    }
   ],
   "source": [
    "df.shape"
   ]
  },
  {
   "cell_type": "markdown",
   "id": "5b424806",
   "metadata": {},
   "source": [
    "#### Data Cleaning"
   ]
  },
  {
   "cell_type": "code",
   "execution_count": 6,
   "id": "312e741e",
   "metadata": {},
   "outputs": [
    {
     "data": {
      "text/html": [
       "<div>\n",
       "<style scoped>\n",
       "    .dataframe tbody tr th:only-of-type {\n",
       "        vertical-align: middle;\n",
       "    }\n",
       "\n",
       "    .dataframe tbody tr th {\n",
       "        vertical-align: top;\n",
       "    }\n",
       "\n",
       "    .dataframe thead th {\n",
       "        text-align: right;\n",
       "    }\n",
       "</style>\n",
       "<table border=\"1\" class=\"dataframe\">\n",
       "  <thead>\n",
       "    <tr style=\"text-align: right;\">\n",
       "      <th></th>\n",
       "      <th>Rating</th>\n",
       "      <th>Review2</th>\n",
       "    </tr>\n",
       "  </thead>\n",
       "  <tbody>\n",
       "    <tr>\n",
       "      <th>0</th>\n",
       "      <td>4</td>\n",
       "      <td>nice hotel expens park good deal hotel anniver...</td>\n",
       "    </tr>\n",
       "    <tr>\n",
       "      <th>1</th>\n",
       "      <td>2</td>\n",
       "      <td>noth special charg diamond member hilton decid...</td>\n",
       "    </tr>\n",
       "    <tr>\n",
       "      <th>2</th>\n",
       "      <td>3</td>\n",
       "      <td>nice room experi hotel monaco seattl good hote...</td>\n",
       "    </tr>\n",
       "    <tr>\n",
       "      <th>3</th>\n",
       "      <td>5</td>\n",
       "      <td>uniqu great wonder hotel monaco locat excel sh...</td>\n",
       "    </tr>\n",
       "    <tr>\n",
       "      <th>4</th>\n",
       "      <td>5</td>\n",
       "      <td>great great seahawk game awesom downfal view b...</td>\n",
       "    </tr>\n",
       "  </tbody>\n",
       "</table>\n",
       "</div>"
      ],
      "text/plain": [
       "   Rating                                            Review2\n",
       "0       4  nice hotel expens park good deal hotel anniver...\n",
       "1       2  noth special charg diamond member hilton decid...\n",
       "2       3  nice room experi hotel monaco seattl good hote...\n",
       "3       5  uniqu great wonder hotel monaco locat excel sh...\n",
       "4       5  great great seahawk game awesom downfal view b..."
      ]
     },
     "execution_count": 6,
     "metadata": {},
     "output_type": "execute_result"
    }
   ],
   "source": [
    "data = df.drop(['Review'],axis=1)\n",
    "data.head()"
   ]
  },
  {
   "cell_type": "markdown",
   "id": "db503f7b",
   "metadata": {},
   "source": [
    "#### Counting the word length "
   ]
  },
  {
   "cell_type": "code",
   "execution_count": 7,
   "id": "dcd3651c",
   "metadata": {},
   "outputs": [],
   "source": [
    "data['Word_count']= data['Review2'].map(lambda x: len(x.split()))"
   ]
  },
  {
   "cell_type": "code",
   "execution_count": 8,
   "id": "9f710899",
   "metadata": {},
   "outputs": [
    {
     "data": {
      "text/html": [
       "<div>\n",
       "<style scoped>\n",
       "    .dataframe tbody tr th:only-of-type {\n",
       "        vertical-align: middle;\n",
       "    }\n",
       "\n",
       "    .dataframe tbody tr th {\n",
       "        vertical-align: top;\n",
       "    }\n",
       "\n",
       "    .dataframe thead th {\n",
       "        text-align: right;\n",
       "    }\n",
       "</style>\n",
       "<table border=\"1\" class=\"dataframe\">\n",
       "  <thead>\n",
       "    <tr style=\"text-align: right;\">\n",
       "      <th></th>\n",
       "      <th>Rating</th>\n",
       "      <th>Review2</th>\n",
       "      <th>Word_count</th>\n",
       "    </tr>\n",
       "  </thead>\n",
       "  <tbody>\n",
       "    <tr>\n",
       "      <th>0</th>\n",
       "      <td>4</td>\n",
       "      <td>nice hotel expens park good deal hotel anniver...</td>\n",
       "      <td>68</td>\n",
       "    </tr>\n",
       "    <tr>\n",
       "      <th>1</th>\n",
       "      <td>2</td>\n",
       "      <td>noth special charg diamond member hilton decid...</td>\n",
       "      <td>195</td>\n",
       "    </tr>\n",
       "    <tr>\n",
       "      <th>2</th>\n",
       "      <td>3</td>\n",
       "      <td>nice room experi hotel monaco seattl good hote...</td>\n",
       "      <td>149</td>\n",
       "    </tr>\n",
       "    <tr>\n",
       "      <th>3</th>\n",
       "      <td>5</td>\n",
       "      <td>uniqu great wonder hotel monaco locat excel sh...</td>\n",
       "      <td>74</td>\n",
       "    </tr>\n",
       "    <tr>\n",
       "      <th>4</th>\n",
       "      <td>5</td>\n",
       "      <td>great great seahawk game awesom downfal view b...</td>\n",
       "      <td>148</td>\n",
       "    </tr>\n",
       "  </tbody>\n",
       "</table>\n",
       "</div>"
      ],
      "text/plain": [
       "   Rating                                            Review2  Word_count\n",
       "0       4  nice hotel expens park good deal hotel anniver...          68\n",
       "1       2  noth special charg diamond member hilton decid...         195\n",
       "2       3  nice room experi hotel monaco seattl good hote...         149\n",
       "3       5  uniqu great wonder hotel monaco locat excel sh...          74\n",
       "4       5  great great seahawk game awesom downfal view b...         148"
      ]
     },
     "execution_count": 8,
     "metadata": {},
     "output_type": "execute_result"
    }
   ],
   "source": [
    "data.head()"
   ]
  },
  {
   "cell_type": "code",
   "execution_count": 9,
   "id": "b4e2ebd4",
   "metadata": {},
   "outputs": [
    {
     "data": {
      "text/plain": [
       "<AxesSubplot:xlabel='Rating', ylabel='Word_count'>"
      ]
     },
     "execution_count": 9,
     "metadata": {},
     "output_type": "execute_result"
    },
    {
     "data": {
      "image/png": "[encoded data removed]",
      "text/plain": [
       "<Figure size 432x288 with 1 Axes>"
      ]
     },
     "metadata": {
      "needs_background": "light"
     },
     "output_type": "display_data"
    }
   ],
   "source": [
    "sns.set_palette('Oranges_r')\n",
    "sns.lineplot(x='Rating', data=data, y='Word_count')"
   ]
  },
  {
   "cell_type": "markdown",
   "id": "a7cd9e55",
   "metadata": {},
   "source": [
    "## Sentiment Analysis"
   ]
  },
  {
   "cell_type": "code",
   "execution_count": 10,
   "id": "5e9dc8ec",
   "metadata": {},
   "outputs": [
    {
     "data": {
      "text/plain": [
       "5    9054\n",
       "4    6039\n",
       "3    2184\n",
       "2    1793\n",
       "1    1421\n",
       "Name: Rating, dtype: int64"
      ]
     },
     "execution_count": 10,
     "metadata": {},
     "output_type": "execute_result"
    }
   ],
   "source": [
    "# most reviewers leave a 4 & 5 star review\n",
    "data.Rating.value_counts()"
   ]
  },
  {
   "cell_type": "code",
   "execution_count": 11,
   "id": "81bf9c1a",
   "metadata": {},
   "outputs": [
    {
     "name": "stderr",
     "output_type": "stream",
     "text": [
      "[nltk_data] Downloading package vader_lexicon to\n",
      "[nltk_data]     /Users/AAHMT/nltk_data...\n",
      "[nltk_data]   Package vader_lexicon is already up-to-date!\n"
     ]
    }
   ],
   "source": [
    "import nltk\n",
    "nltk.download('vader_lexicon')\n",
    "from nltk.sentiment.vader import SentimentIntensityAnalyzer\n",
    "sid = SentimentIntensityAnalyzer()"
   ]
  },
  {
   "cell_type": "markdown",
   "id": "a8c0e488",
   "metadata": {},
   "source": [
    "### Segregating and Encoding Positive and Negative labels\n"
   ]
  },
  {
   "cell_type": "code",
   "execution_count": 12,
   "id": "01cd9046",
   "metadata": {},
   "outputs": [
    {
     "data": {
      "text/html": [
       "<div>\n",
       "<style scoped>\n",
       "    .dataframe tbody tr th:only-of-type {\n",
       "        vertical-align: middle;\n",
       "    }\n",
       "\n",
       "    .dataframe tbody tr th {\n",
       "        vertical-align: top;\n",
       "    }\n",
       "\n",
       "    .dataframe thead th {\n",
       "        text-align: right;\n",
       "    }\n",
       "</style>\n",
       "<table border=\"1\" class=\"dataframe\">\n",
       "  <thead>\n",
       "    <tr style=\"text-align: right;\">\n",
       "      <th></th>\n",
       "      <th>Rating</th>\n",
       "      <th>Review2</th>\n",
       "      <th>Word_count</th>\n",
       "      <th>Sentiment</th>\n",
       "    </tr>\n",
       "  </thead>\n",
       "  <tbody>\n",
       "    <tr>\n",
       "      <th>0</th>\n",
       "      <td>4</td>\n",
       "      <td>nice hotel expens park good deal hotel anniver...</td>\n",
       "      <td>68</td>\n",
       "      <td>Positive</td>\n",
       "    </tr>\n",
       "    <tr>\n",
       "      <th>1</th>\n",
       "      <td>2</td>\n",
       "      <td>noth special charg diamond member hilton decid...</td>\n",
       "      <td>195</td>\n",
       "      <td>Negative</td>\n",
       "    </tr>\n",
       "    <tr>\n",
       "      <th>3</th>\n",
       "      <td>5</td>\n",
       "      <td>uniqu great wonder hotel monaco locat excel sh...</td>\n",
       "      <td>74</td>\n",
       "      <td>Positive</td>\n",
       "    </tr>\n",
       "    <tr>\n",
       "      <th>4</th>\n",
       "      <td>5</td>\n",
       "      <td>great great seahawk game awesom downfal view b...</td>\n",
       "      <td>148</td>\n",
       "      <td>Positive</td>\n",
       "    </tr>\n",
       "    <tr>\n",
       "      <th>5</th>\n",
       "      <td>5</td>\n",
       "      <td>love monaco staff husband hotel crazi weekend ...</td>\n",
       "      <td>115</td>\n",
       "      <td>Positive</td>\n",
       "    </tr>\n",
       "  </tbody>\n",
       "</table>\n",
       "</div>"
      ],
      "text/plain": [
       "   Rating                                            Review2  Word_count  \\\n",
       "0       4  nice hotel expens park good deal hotel anniver...          68   \n",
       "1       2  noth special charg diamond member hilton decid...         195   \n",
       "3       5  uniqu great wonder hotel monaco locat excel sh...          74   \n",
       "4       5  great great seahawk game awesom downfal view b...         148   \n",
       "5       5  love monaco staff husband hotel crazi weekend ...         115   \n",
       "\n",
       "  Sentiment  \n",
       "0  Positive  \n",
       "1  Negative  \n",
       "3  Positive  \n",
       "4  Positive  \n",
       "5  Positive  "
      ]
     },
     "execution_count": 12,
     "metadata": {},
     "output_type": "execute_result"
    }
   ],
   "source": [
    "pos = [4, 5]\n",
    "neg = [1, 2]\n",
    "neu = [3]\n",
    "\n",
    "# Remove 3 star reviews\n",
    "data = data[data.Rating!=3]\n",
    "\n",
    "def sentiment(rating):\n",
    "    if rating in pos:\n",
    "        return 'Positive'\n",
    "    else:\n",
    "        return 'Negative'  \n",
    "data['Sentiment'] = data['Rating'].apply(sentiment)\n",
    "data.head()"
   ]
  },
  {
   "cell_type": "code",
   "execution_count": 13,
   "id": "4cc07348",
   "metadata": {},
   "outputs": [
    {
     "data": {
      "text/plain": [
       "(18307, 4)"
      ]
     },
     "execution_count": 13,
     "metadata": {},
     "output_type": "execute_result"
    }
   ],
   "source": [
    "data.shape"
   ]
  },
  {
   "cell_type": "code",
   "execution_count": 14,
   "id": "64ad358f",
   "metadata": {},
   "outputs": [
    {
     "name": "stderr",
     "output_type": "stream",
     "text": [
      "/Users/AAHMT/opt/anaconda3/lib/python3.8/site-packages/seaborn/_decorators.py:36: FutureWarning: Pass the following variable as a keyword arg: x. From version 0.12, the only valid positional argument will be `data`, and passing other arguments without an explicit keyword will result in an error or misinterpretation.\n",
      "  warnings.warn(\n"
     ]
    },
    {
     "data": {
      "text/plain": [
       "<AxesSubplot:xlabel='Sentiment', ylabel='count'>"
      ]
     },
     "execution_count": 14,
     "metadata": {},
     "output_type": "execute_result"
    },
    {
     "data": {
      "image/png": "[encoded data removed]",
      "text/plain": [
       "<Figure size 432x288 with 1 Axes>"
      ]
     },
     "metadata": {
      "needs_background": "light"
     },
     "output_type": "display_data"
    }
   ],
   "source": [
    "sns.countplot(data['Sentiment'],palette='Oranges_r')"
   ]
  },
  {
   "cell_type": "markdown",
   "id": "592b6cb1",
   "metadata": {},
   "source": [
    "#### Generating Sentiment Scores using Vader Sentiment Analyzer"
   ]
  },
  {
   "cell_type": "markdown",
   "id": "1b2ce7b8",
   "metadata": {},
   "source": [
    "VADER A SentimentAnalyzer is a tool to implement and facilitate Sentiment Analysis tasks using NLTK features and classifiers, especially for teaching and demonstrative purposes."
   ]
  },
  {
   "cell_type": "code",
   "execution_count": 15,
   "id": "708c80b7",
   "metadata": {},
   "outputs": [],
   "source": [
    "data['scores'] = data['Review2'].apply(lambda review: sid.polarity_scores(review))"
   ]
  },
  {
   "cell_type": "code",
   "execution_count": 16,
   "id": "84417d01",
   "metadata": {},
   "outputs": [
    {
     "data": {
      "text/html": [
       "<div>\n",
       "<style scoped>\n",
       "    .dataframe tbody tr th:only-of-type {\n",
       "        vertical-align: middle;\n",
       "    }\n",
       "\n",
       "    .dataframe tbody tr th {\n",
       "        vertical-align: top;\n",
       "    }\n",
       "\n",
       "    .dataframe thead th {\n",
       "        text-align: right;\n",
       "    }\n",
       "</style>\n",
       "<table border=\"1\" class=\"dataframe\">\n",
       "  <thead>\n",
       "    <tr style=\"text-align: right;\">\n",
       "      <th></th>\n",
       "      <th>Rating</th>\n",
       "      <th>Review2</th>\n",
       "      <th>Word_count</th>\n",
       "      <th>Sentiment</th>\n",
       "      <th>scores</th>\n",
       "    </tr>\n",
       "  </thead>\n",
       "  <tbody>\n",
       "    <tr>\n",
       "      <th>0</th>\n",
       "      <td>4</td>\n",
       "      <td>nice hotel expens park good deal hotel anniver...</td>\n",
       "      <td>68</td>\n",
       "      <td>Positive</td>\n",
       "      <td>{'neg': 0.031, 'neu': 0.645, 'pos': 0.325, 'co...</td>\n",
       "    </tr>\n",
       "    <tr>\n",
       "      <th>1</th>\n",
       "      <td>2</td>\n",
       "      <td>noth special charg diamond member hilton decid...</td>\n",
       "      <td>195</td>\n",
       "      <td>Negative</td>\n",
       "      <td>{'neg': 0.024, 'neu': 0.722, 'pos': 0.254, 'co...</td>\n",
       "    </tr>\n",
       "    <tr>\n",
       "      <th>3</th>\n",
       "      <td>5</td>\n",
       "      <td>uniqu great wonder hotel monaco locat excel sh...</td>\n",
       "      <td>74</td>\n",
       "      <td>Positive</td>\n",
       "      <td>{'neg': 0.0, 'neu': 0.587, 'pos': 0.413, 'comp...</td>\n",
       "    </tr>\n",
       "    <tr>\n",
       "      <th>4</th>\n",
       "      <td>5</td>\n",
       "      <td>great great seahawk game awesom downfal view b...</td>\n",
       "      <td>148</td>\n",
       "      <td>Positive</td>\n",
       "      <td>{'neg': 0.07, 'neu': 0.661, 'pos': 0.269, 'com...</td>\n",
       "    </tr>\n",
       "    <tr>\n",
       "      <th>5</th>\n",
       "      <td>5</td>\n",
       "      <td>love monaco staff husband hotel crazi weekend ...</td>\n",
       "      <td>115</td>\n",
       "      <td>Positive</td>\n",
       "      <td>{'neg': 0.021, 'neu': 0.83, 'pos': 0.149, 'com...</td>\n",
       "    </tr>\n",
       "  </tbody>\n",
       "</table>\n",
       "</div>"
      ],
      "text/plain": [
       "   Rating                                            Review2  Word_count  \\\n",
       "0       4  nice hotel expens park good deal hotel anniver...          68   \n",
       "1       2  noth special charg diamond member hilton decid...         195   \n",
       "3       5  uniqu great wonder hotel monaco locat excel sh...          74   \n",
       "4       5  great great seahawk game awesom downfal view b...         148   \n",
       "5       5  love monaco staff husband hotel crazi weekend ...         115   \n",
       "\n",
       "  Sentiment                                             scores  \n",
       "0  Positive  {'neg': 0.031, 'neu': 0.645, 'pos': 0.325, 'co...  \n",
       "1  Negative  {'neg': 0.024, 'neu': 0.722, 'pos': 0.254, 'co...  \n",
       "3  Positive  {'neg': 0.0, 'neu': 0.587, 'pos': 0.413, 'comp...  \n",
       "4  Positive  {'neg': 0.07, 'neu': 0.661, 'pos': 0.269, 'com...  \n",
       "5  Positive  {'neg': 0.021, 'neu': 0.83, 'pos': 0.149, 'com...  "
      ]
     },
     "execution_count": 16,
     "metadata": {},
     "output_type": "execute_result"
    }
   ],
   "source": [
    "data.head()"
   ]
  },
  {
   "cell_type": "code",
   "execution_count": 17,
   "id": "714819bc",
   "metadata": {},
   "outputs": [
    {
     "data": {
      "text/plain": [
       "Positive    0.824439\n",
       "Negative    0.175561\n",
       "Name: Sentiment, dtype: float64"
      ]
     },
     "execution_count": 17,
     "metadata": {},
     "output_type": "execute_result"
    }
   ],
   "source": [
    "# Note that the dataset has mostly positive reviews\n",
    "data.Sentiment.value_counts(normalize=True)"
   ]
  },
  {
   "cell_type": "code",
   "execution_count": 18,
   "id": "1082280b",
   "metadata": {},
   "outputs": [
    {
     "data": {
      "text/html": [
       "<div>\n",
       "<style scoped>\n",
       "    .dataframe tbody tr th:only-of-type {\n",
       "        vertical-align: middle;\n",
       "    }\n",
       "\n",
       "    .dataframe tbody tr th {\n",
       "        vertical-align: top;\n",
       "    }\n",
       "\n",
       "    .dataframe thead th {\n",
       "        text-align: right;\n",
       "    }\n",
       "</style>\n",
       "<table border=\"1\" class=\"dataframe\">\n",
       "  <thead>\n",
       "    <tr style=\"text-align: right;\">\n",
       "      <th></th>\n",
       "      <th>Sentiment</th>\n",
       "      <th>Review2</th>\n",
       "    </tr>\n",
       "  </thead>\n",
       "  <tbody>\n",
       "    <tr>\n",
       "      <th>0</th>\n",
       "      <td>Positive</td>\n",
       "      <td>nice hotel expens park good deal hotel anniver...</td>\n",
       "    </tr>\n",
       "    <tr>\n",
       "      <th>1</th>\n",
       "      <td>Negative</td>\n",
       "      <td>noth special charg diamond member hilton decid...</td>\n",
       "    </tr>\n",
       "    <tr>\n",
       "      <th>3</th>\n",
       "      <td>Positive</td>\n",
       "      <td>uniqu great wonder hotel monaco locat excel sh...</td>\n",
       "    </tr>\n",
       "    <tr>\n",
       "      <th>4</th>\n",
       "      <td>Positive</td>\n",
       "      <td>great great seahawk game awesom downfal view b...</td>\n",
       "    </tr>\n",
       "    <tr>\n",
       "      <th>5</th>\n",
       "      <td>Positive</td>\n",
       "      <td>love monaco staff husband hotel crazi weekend ...</td>\n",
       "    </tr>\n",
       "  </tbody>\n",
       "</table>\n",
       "</div>"
      ],
      "text/plain": [
       "  Sentiment                                            Review2\n",
       "0  Positive  nice hotel expens park good deal hotel anniver...\n",
       "1  Negative  noth special charg diamond member hilton decid...\n",
       "3  Positive  uniqu great wonder hotel monaco locat excel sh...\n",
       "4  Positive  great great seahawk game awesom downfal view b...\n",
       "5  Positive  love monaco staff husband hotel crazi weekend ..."
      ]
     },
     "execution_count": 18,
     "metadata": {},
     "output_type": "execute_result"
    }
   ],
   "source": [
    "# Include only the sentiment and reviews columns\n",
    "df1 = data[['Sentiment', 'Review2']]\n",
    "df1.head()"
   ]
  },
  {
   "cell_type": "markdown",
   "id": "2cd0d29a",
   "metadata": {},
   "source": [
    "## Prepare Data for Modeling"
   ]
  },
  {
   "cell_type": "code",
   "execution_count": 19,
   "id": "7dd13a55",
   "metadata": {},
   "outputs": [],
   "source": [
    "# Split the data into X and y data sets\n",
    "X = df1.Review2\n",
    "y = df1.Sentiment"
   ]
  },
  {
   "cell_type": "code",
   "execution_count": 20,
   "id": "f87da588",
   "metadata": {},
   "outputs": [],
   "source": [
    "# Split the data into training and test sets\n",
    "from sklearn.model_selection import train_test_split\n",
    "X_train, X_test, y_train, y_test = train_test_split(X, y, test_size=0.3, random_state=42)"
   ]
  },
  {
   "cell_type": "code",
   "execution_count": 21,
   "id": "4c276bec",
   "metadata": {},
   "outputs": [],
   "source": [
    "# Create TF-IDF versions \n",
    "from sklearn.feature_extraction.text import TfidfVectorizer\n",
    "\n",
    "tfidf1 = TfidfVectorizer(stop_words='english')\n",
    "X_train_tfidf1 = tfidf1.fit_transform(X_train)\n",
    "X_test_tfidf1  = tfidf1.transform(X_test)\n",
    "\n",
    "tfidf2 = TfidfVectorizer(ngram_range=(1,2), binary=True, stop_words='english')\n",
    "X_train_tfidf2 = tfidf2.fit_transform(X_train)\n",
    "X_test_tfidf2  = tfidf2.transform(X_test)"
   ]
  },
  {
   "cell_type": "markdown",
   "id": "6aebba60",
   "metadata": {},
   "source": [
    "### 1- Classifying using Logistic Regression With TF-IDF"
   ]
  },
  {
   "cell_type": "code",
   "execution_count": 22,
   "id": "e5caab9e",
   "metadata": {},
   "outputs": [],
   "source": [
    "# Create a logistic regression model to use\n",
    "from sklearn.linear_model import LogisticRegression\n",
    "lr = LogisticRegression()"
   ]
  },
  {
   "cell_type": "code",
   "execution_count": 23,
   "id": "9fd5609a",
   "metadata": {},
   "outputs": [],
   "source": [
    "# Create a function to calculate the error metrics, since we'll be doing this several times\n",
    "from sklearn.metrics import confusion_matrix\n",
    "import matplotlib.pyplot as plt\n",
    "import seaborn as sns\n",
    "%matplotlib inline\n",
    "\n",
    "def conf_matrix(actual, predicted):\n",
    "    cm = confusion_matrix(actual, predicted)\n",
    "    sns.heatmap(cm, xticklabels=['predicted_negative', 'predicted_positive'], \n",
    "                yticklabels=['actual_negative', 'actual_positive'], annot=True,\n",
    "                fmt='d', annot_kws={'fontsize':20}, cmap=\"Oranges\");\n",
    "\n",
    "    true_neg, false_pos = cm[0]\n",
    "    false_neg, true_pos = cm[1]\n",
    "\n",
    "    accuracy = round((true_pos + true_neg) / (true_pos + true_neg + false_pos + false_neg),3)\n",
    "    precision = round((true_pos) / (true_pos + false_pos),3)\n",
    "    recall = round((true_pos) / (true_pos + false_neg),3)\n",
    "    f1 = round(2 * (precision * recall) / (precision + recall),3)\n",
    "\n",
    "    cm_results = [accuracy, precision, recall, f1]\n",
    "    return cm_results"
   ]
  },
  {
   "cell_type": "code",
   "execution_count": 24,
   "id": "c6901058",
   "metadata": {},
   "outputs": [
    {
     "data": {
      "image/png": "[encoded data removed]",
      "text/plain": [
       "<Figure size 432x288 with 2 Axes>"
      ]
     },
     "metadata": {
      "needs_background": "light"
     },
     "output_type": "display_data"
    }
   ],
   "source": [
    "# Fit the first logistic regression on the TF-IDF data\n",
    "lr.fit(X_train_tfidf1, y_train)\n",
    "y_pred_tfidf1_lr = lr.predict(X_test_tfidf1)\n",
    "cm1 = conf_matrix(y_test, y_pred_tfidf1_lr)"
   ]
  },
  {
   "cell_type": "code",
   "execution_count": 25,
   "id": "1d36c5f1",
   "metadata": {},
   "outputs": [
    {
     "data": {
      "image/png": "[encoded data removed]",
      "text/plain": [
       "<Figure size 432x288 with 2 Axes>"
      ]
     },
     "metadata": {
      "needs_background": "light"
     },
     "output_type": "display_data"
    }
   ],
   "source": [
    "# Fit the second logistic regression on the TF-IDF data\n",
    "lr.fit(X_train_tfidf2, y_train)\n",
    "y_pred_tfidf2_lr = lr.predict(X_test_tfidf2)\n",
    "cm2 = conf_matrix(y_test, y_pred_tfidf2_lr)"
   ]
  },
  {
   "cell_type": "code",
   "execution_count": 26,
   "id": "de2fd69e",
   "metadata": {},
   "outputs": [
    {
     "data": {
      "text/html": [
       "<div>\n",
       "<style scoped>\n",
       "    .dataframe tbody tr th:only-of-type {\n",
       "        vertical-align: middle;\n",
       "    }\n",
       "\n",
       "    .dataframe tbody tr th {\n",
       "        vertical-align: top;\n",
       "    }\n",
       "\n",
       "    .dataframe thead th {\n",
       "        text-align: right;\n",
       "    }\n",
       "</style>\n",
       "<table border=\"1\" class=\"dataframe\">\n",
       "  <thead>\n",
       "    <tr style=\"text-align: right;\">\n",
       "      <th></th>\n",
       "      <th>LR1-TFIDF</th>\n",
       "      <th>LR2-TFIDF</th>\n",
       "    </tr>\n",
       "  </thead>\n",
       "  <tbody>\n",
       "    <tr>\n",
       "      <th>Accuracy</th>\n",
       "      <td>0.944</td>\n",
       "      <td>0.905</td>\n",
       "    </tr>\n",
       "    <tr>\n",
       "      <th>Precision</th>\n",
       "      <td>0.943</td>\n",
       "      <td>0.897</td>\n",
       "    </tr>\n",
       "    <tr>\n",
       "      <th>Recall</th>\n",
       "      <td>0.991</td>\n",
       "      <td>0.999</td>\n",
       "    </tr>\n",
       "    <tr>\n",
       "      <th>F1 Score</th>\n",
       "      <td>0.966</td>\n",
       "      <td>0.945</td>\n",
       "    </tr>\n",
       "  </tbody>\n",
       "</table>\n",
       "</div>"
      ],
      "text/plain": [
       "           LR1-TFIDF  LR2-TFIDF\n",
       "Accuracy       0.944      0.905\n",
       "Precision      0.943      0.897\n",
       "Recall         0.991      0.999\n",
       "F1 Score       0.966      0.945"
      ]
     },
     "execution_count": 26,
     "metadata": {},
     "output_type": "execute_result"
    }
   ],
   "source": [
    "# Compile all of the error metrics into a dataframe for comparison\n",
    "results = pd.DataFrame(list(zip(cm1, cm2)))\n",
    "results = results.set_index([['Accuracy', 'Precision', 'Recall', 'F1 Score']])\n",
    "results.columns = ['LR1-TFIDF', 'LR2-TFIDF']\n",
    "results"
   ]
  },
  {
   "cell_type": "markdown",
   "id": "660b574a",
   "metadata": {},
   "source": [
    "###  2 - Classifying using Naive Bayes  With TF-IDF"
   ]
  },
  {
   "cell_type": "code",
   "execution_count": 27,
   "id": "41e2d561",
   "metadata": {},
   "outputs": [],
   "source": [
    "# Fit the first Naive Bayes model\n",
    "from sklearn.naive_bayes import MultinomialNB\n",
    "\n",
    "mnb = MultinomialNB()\n",
    "mnb.fit(X_train_tfidf1, y_train)\n",
    "\n",
    "y_pred_tfidf1_nb = mnb.predict(X_test_tfidf1)"
   ]
  },
  {
   "cell_type": "code",
   "execution_count": 28,
   "id": "ea28bb60",
   "metadata": {},
   "outputs": [],
   "source": [
    "# Fit the second Naive Bayes model\n",
    "from sklearn.naive_bayes import BernoulliNB\n",
    "\n",
    "bnb = BernoulliNB()\n",
    "bnb.fit(X_train_tfidf2, y_train)\n",
    "\n",
    "y_pred_tfidf2_nb = bnb.predict(X_test_tfidf2)"
   ]
  },
  {
   "cell_type": "code",
   "execution_count": 29,
   "id": "10bd9a4f",
   "metadata": {},
   "outputs": [
    {
     "data": {
      "image/png": "[encoded data removed]",
      "text/plain": [
       "<Figure size 432x288 with 2 Axes>"
      ]
     },
     "metadata": {
      "needs_background": "light"
     },
     "output_type": "display_data"
    }
   ],
   "source": [
    "# Here's the heat map for the first Naive Bayes model\n",
    "cm3 = conf_matrix(y_test, y_pred_tfidf1_nb)"
   ]
  },
  {
   "cell_type": "code",
   "execution_count": 30,
   "id": "1bafb01e",
   "metadata": {},
   "outputs": [
    {
     "data": {
      "image/png": "[encoded data removed]",
      "text/plain": [
       "<Figure size 432x288 with 2 Axes>"
      ]
     },
     "metadata": {
      "needs_background": "light"
     },
     "output_type": "display_data"
    }
   ],
   "source": [
    "# Here's the heat map for the second Naive Bayes model\n",
    "cm4 = conf_matrix(y_test, y_pred_tfidf2_nb)"
   ]
  },
  {
   "cell_type": "code",
   "execution_count": 31,
   "id": "2a1d65fd",
   "metadata": {},
   "outputs": [
    {
     "data": {
      "text/html": [
       "<div>\n",
       "<style scoped>\n",
       "    .dataframe tbody tr th:only-of-type {\n",
       "        vertical-align: middle;\n",
       "    }\n",
       "\n",
       "    .dataframe tbody tr th {\n",
       "        vertical-align: top;\n",
       "    }\n",
       "\n",
       "    .dataframe thead th {\n",
       "        text-align: right;\n",
       "    }\n",
       "</style>\n",
       "<table border=\"1\" class=\"dataframe\">\n",
       "  <thead>\n",
       "    <tr style=\"text-align: right;\">\n",
       "      <th></th>\n",
       "      <th>Naive1-TFIDF</th>\n",
       "      <th>Naive2-TFIDF</th>\n",
       "    </tr>\n",
       "  </thead>\n",
       "  <tbody>\n",
       "    <tr>\n",
       "      <th>Accuracy</th>\n",
       "      <td>0.832</td>\n",
       "      <td>0.829</td>\n",
       "    </tr>\n",
       "    <tr>\n",
       "      <th>Precision</th>\n",
       "      <td>0.831</td>\n",
       "      <td>0.830</td>\n",
       "    </tr>\n",
       "    <tr>\n",
       "      <th>Recall</th>\n",
       "      <td>1.000</td>\n",
       "      <td>0.997</td>\n",
       "    </tr>\n",
       "    <tr>\n",
       "      <th>F1 Score</th>\n",
       "      <td>0.908</td>\n",
       "      <td>0.906</td>\n",
       "    </tr>\n",
       "  </tbody>\n",
       "</table>\n",
       "</div>"
      ],
      "text/plain": [
       "           Naive1-TFIDF  Naive2-TFIDF\n",
       "Accuracy          0.832         0.829\n",
       "Precision         0.831         0.830\n",
       "Recall            1.000         0.997\n",
       "F1 Score          0.908         0.906"
      ]
     },
     "execution_count": 31,
     "metadata": {},
     "output_type": "execute_result"
    }
   ],
   "source": [
    "# Compile all of the error metrics into a dataframe for comparison\n",
    "results = pd.DataFrame(list(zip(cm3, cm4)))\n",
    "results = results.set_index([['Accuracy', 'Precision', 'Recall', 'F1 Score']])\n",
    "results.columns = ['Naive1-TFIDF', 'Naive2-TFIDF']\n",
    "results"
   ]
  },
  {
   "cell_type": "markdown",
   "id": "ec1b906e",
   "metadata": {},
   "source": [
    "### 3 - Ada Boost Classifier  With TF-IDF"
   ]
  },
  {
   "cell_type": "code",
   "execution_count": 32,
   "id": "55c53c70",
   "metadata": {},
   "outputs": [],
   "source": [
    "#Fit the first Ada Boost model\n",
    "from sklearn.ensemble import AdaBoostClassifier\n",
    "abc = AdaBoostClassifier()\n",
    "# Train Adaboost Classifer\n",
    "abc.fit(X_train_tfidf1, y_train)\n",
    "\n",
    "y_pred_tfidf1_ab = abc.predict(X_test_tfidf1)"
   ]
  },
  {
   "cell_type": "code",
   "execution_count": 33,
   "id": "b1c5027f",
   "metadata": {},
   "outputs": [
    {
     "data": {
      "image/png": "[encoded data removed]",
      "text/plain": [
       "<Figure size 432x288 with 2 Axes>"
      ]
     },
     "metadata": {
      "needs_background": "light"
     },
     "output_type": "display_data"
    }
   ],
   "source": [
    "# Here's the heat map for the first Ada Boost model\n",
    "cm5 = conf_matrix(y_test, y_pred_tfidf1_ab)"
   ]
  },
  {
   "cell_type": "code",
   "execution_count": 34,
   "id": "47d50b99",
   "metadata": {},
   "outputs": [],
   "source": [
    "#Fit the second Ada Boost  model\n",
    "abc = AdaBoostClassifier()\n",
    "# Train Adaboost Classifer\n",
    "abc.fit(X_train_tfidf2, y_train)\n",
    "\n",
    "y_pred_tfidf2_ab = abc.predict(X_test_tfidf2)"
   ]
  },
  {
   "cell_type": "code",
   "execution_count": 35,
   "id": "72f186a8",
   "metadata": {},
   "outputs": [
    {
     "data": {
      "image/png": "[encoded data removed]",
      "text/plain": [
       "<Figure size 432x288 with 2 Axes>"
      ]
     },
     "metadata": {
      "needs_background": "light"
     },
     "output_type": "display_data"
    }
   ],
   "source": [
    "# Here's the heat map for the first Ada Boost model\n",
    "cm6 = conf_matrix(y_test, y_pred_tfidf2_ab)"
   ]
  },
  {
   "cell_type": "code",
   "execution_count": 36,
   "id": "32c28ac2",
   "metadata": {
    "scrolled": true
   },
   "outputs": [
    {
     "data": {
      "text/html": [
       "<div>\n",
       "<style scoped>\n",
       "    .dataframe tbody tr th:only-of-type {\n",
       "        vertical-align: middle;\n",
       "    }\n",
       "\n",
       "    .dataframe tbody tr th {\n",
       "        vertical-align: top;\n",
       "    }\n",
       "\n",
       "    .dataframe thead th {\n",
       "        text-align: right;\n",
       "    }\n",
       "</style>\n",
       "<table border=\"1\" class=\"dataframe\">\n",
       "  <thead>\n",
       "    <tr style=\"text-align: right;\">\n",
       "      <th></th>\n",
       "      <th>AdaBoost1-TFIDF</th>\n",
       "      <th>AdaBoost2-TFIDF</th>\n",
       "    </tr>\n",
       "  </thead>\n",
       "  <tbody>\n",
       "    <tr>\n",
       "      <th>Accuracy</th>\n",
       "      <td>0.914</td>\n",
       "      <td>0.910</td>\n",
       "    </tr>\n",
       "    <tr>\n",
       "      <th>Precision</th>\n",
       "      <td>0.930</td>\n",
       "      <td>0.925</td>\n",
       "    </tr>\n",
       "    <tr>\n",
       "      <th>Recall</th>\n",
       "      <td>0.970</td>\n",
       "      <td>0.970</td>\n",
       "    </tr>\n",
       "    <tr>\n",
       "      <th>F1 Score</th>\n",
       "      <td>0.950</td>\n",
       "      <td>0.947</td>\n",
       "    </tr>\n",
       "  </tbody>\n",
       "</table>\n",
       "</div>"
      ],
      "text/plain": [
       "           AdaBoost1-TFIDF  AdaBoost2-TFIDF\n",
       "Accuracy             0.914            0.910\n",
       "Precision            0.930            0.925\n",
       "Recall               0.970            0.970\n",
       "F1 Score             0.950            0.947"
      ]
     },
     "execution_count": 36,
     "metadata": {},
     "output_type": "execute_result"
    }
   ],
   "source": [
    "# Compile all of the error metrics into a dataframe for comparison\n",
    "results = pd.DataFrame(list(zip(cm5, cm6)))\n",
    "results = results.set_index([['Accuracy', 'Precision', 'Recall', 'F1 Score']])\n",
    "results.columns = ['AdaBoost1-TFIDF', 'AdaBoost2-TFIDF']\n",
    "results"
   ]
  },
  {
   "cell_type": "markdown",
   "id": "08b4ae3b",
   "metadata": {},
   "source": [
    "### 4 - SVM With TF-IDF Vectorizer"
   ]
  },
  {
   "cell_type": "code",
   "execution_count": 37,
   "id": "cb45517b",
   "metadata": {},
   "outputs": [],
   "source": [
    "#Support Vector Machines with Scikit-learn for first model\n",
    "from sklearn import svm\n",
    "svm = svm.SVC(probability=True)\n",
    "\n",
    "svm.fit(X_train_tfidf1, y_train)\n",
    "\n",
    "y_pred_tfidf1_sv= svm.predict(X_test_tfidf1)"
   ]
  },
  {
   "cell_type": "code",
   "execution_count": 38,
   "id": "bf509741",
   "metadata": {},
   "outputs": [
    {
     "data": {
      "image/png": "[encoded data removed]",
      "text/plain": [
       "<Figure size 432x288 with 2 Axes>"
      ]
     },
     "metadata": {
      "needs_background": "light"
     },
     "output_type": "display_data"
    }
   ],
   "source": [
    "# Here's the heat map for the first Ada Boost model\n",
    "cm7 = conf_matrix(y_test, y_pred_tfidf1_sv)"
   ]
  },
  {
   "cell_type": "code",
   "execution_count": 39,
   "id": "876ff381",
   "metadata": {},
   "outputs": [],
   "source": [
    "#Support Vector Machines with Scikit-learn for 2nd model\n",
    "from sklearn import svm\n",
    "svm = svm.SVC(probability=True)\n",
    "\n",
    "svm.fit(X_train_tfidf2, y_train)\n",
    "\n",
    "y_pred_tfidf2_sv= svm.predict(X_test_tfidf2)"
   ]
  },
  {
   "cell_type": "code",
   "execution_count": 40,
   "id": "fc3ff128",
   "metadata": {},
   "outputs": [
    {
     "data": {
      "image/png": "[encoded data removed]",
      "text/plain": [
       "<Figure size 432x288 with 2 Axes>"
      ]
     },
     "metadata": {
      "needs_background": "light"
     },
     "output_type": "display_data"
    }
   ],
   "source": [
    "# Here's the heat map for the 2nd Ada Boost model\n",
    "cm8 = conf_matrix(y_test, y_pred_tfidf2_sv)"
   ]
  },
  {
   "cell_type": "code",
   "execution_count": 41,
   "id": "420c49d7",
   "metadata": {},
   "outputs": [
    {
     "data": {
      "text/html": [
       "<div>\n",
       "<style scoped>\n",
       "    .dataframe tbody tr th:only-of-type {\n",
       "        vertical-align: middle;\n",
       "    }\n",
       "\n",
       "    .dataframe tbody tr th {\n",
       "        vertical-align: top;\n",
       "    }\n",
       "\n",
       "    .dataframe thead th {\n",
       "        text-align: right;\n",
       "    }\n",
       "</style>\n",
       "<table border=\"1\" class=\"dataframe\">\n",
       "  <thead>\n",
       "    <tr style=\"text-align: right;\">\n",
       "      <th></th>\n",
       "      <th>SVM1-TFIDF</th>\n",
       "      <th>SVM2-TFIDF</th>\n",
       "    </tr>\n",
       "  </thead>\n",
       "  <tbody>\n",
       "    <tr>\n",
       "      <th>Accuracy</th>\n",
       "      <td>0.949</td>\n",
       "      <td>0.922</td>\n",
       "    </tr>\n",
       "    <tr>\n",
       "      <th>Precision</th>\n",
       "      <td>0.952</td>\n",
       "      <td>0.916</td>\n",
       "    </tr>\n",
       "    <tr>\n",
       "      <th>Recall</th>\n",
       "      <td>0.988</td>\n",
       "      <td>0.997</td>\n",
       "    </tr>\n",
       "    <tr>\n",
       "      <th>F1 Score</th>\n",
       "      <td>0.970</td>\n",
       "      <td>0.955</td>\n",
       "    </tr>\n",
       "  </tbody>\n",
       "</table>\n",
       "</div>"
      ],
      "text/plain": [
       "           SVM1-TFIDF  SVM2-TFIDF\n",
       "Accuracy        0.949       0.922\n",
       "Precision       0.952       0.916\n",
       "Recall          0.988       0.997\n",
       "F1 Score        0.970       0.955"
      ]
     },
     "execution_count": 41,
     "metadata": {},
     "output_type": "execute_result"
    }
   ],
   "source": [
    "# Compile all of the error metrics into a dataframe for comparison\n",
    "results = pd.DataFrame(list(zip(cm7, cm8)))\n",
    "results = results.set_index([['Accuracy', 'Precision', 'Recall', 'F1 Score']])\n",
    "results.columns = ['SVM1-TFIDF', 'SVM2-TFIDF']\n",
    "results"
   ]
  },
  {
   "cell_type": "code",
   "execution_count": 42,
   "id": "3e515ece",
   "metadata": {},
   "outputs": [
    {
     "data": {
      "text/html": [
       "<div>\n",
       "<style scoped>\n",
       "    .dataframe tbody tr th:only-of-type {\n",
       "        vertical-align: middle;\n",
       "    }\n",
       "\n",
       "    .dataframe tbody tr th {\n",
       "        vertical-align: top;\n",
       "    }\n",
       "\n",
       "    .dataframe thead th {\n",
       "        text-align: right;\n",
       "    }\n",
       "</style>\n",
       "<table border=\"1\" class=\"dataframe\">\n",
       "  <thead>\n",
       "    <tr style=\"text-align: right;\">\n",
       "      <th></th>\n",
       "      <th>LR1-TFIDF</th>\n",
       "      <th>LR2-TFIDF</th>\n",
       "      <th>Naive1-TFIDF</th>\n",
       "      <th>Naive2-TFIDF</th>\n",
       "      <th>AdaBoost1-TFIDF</th>\n",
       "      <th>AdaBoost2-TFIDF</th>\n",
       "      <th>SVM1-TFIDF</th>\n",
       "      <th>SVM2-TFIDF</th>\n",
       "    </tr>\n",
       "  </thead>\n",
       "  <tbody>\n",
       "    <tr>\n",
       "      <th>Accuracy</th>\n",
       "      <td>0.944</td>\n",
       "      <td>0.905</td>\n",
       "      <td>0.832</td>\n",
       "      <td>0.829</td>\n",
       "      <td>0.914</td>\n",
       "      <td>0.910</td>\n",
       "      <td>0.949</td>\n",
       "      <td>0.922</td>\n",
       "    </tr>\n",
       "    <tr>\n",
       "      <th>Precision</th>\n",
       "      <td>0.943</td>\n",
       "      <td>0.897</td>\n",
       "      <td>0.831</td>\n",
       "      <td>0.830</td>\n",
       "      <td>0.930</td>\n",
       "      <td>0.925</td>\n",
       "      <td>0.952</td>\n",
       "      <td>0.916</td>\n",
       "    </tr>\n",
       "    <tr>\n",
       "      <th>Recall</th>\n",
       "      <td>0.991</td>\n",
       "      <td>0.999</td>\n",
       "      <td>1.000</td>\n",
       "      <td>0.997</td>\n",
       "      <td>0.970</td>\n",
       "      <td>0.970</td>\n",
       "      <td>0.988</td>\n",
       "      <td>0.997</td>\n",
       "    </tr>\n",
       "    <tr>\n",
       "      <th>F1 Score</th>\n",
       "      <td>0.966</td>\n",
       "      <td>0.945</td>\n",
       "      <td>0.908</td>\n",
       "      <td>0.906</td>\n",
       "      <td>0.950</td>\n",
       "      <td>0.947</td>\n",
       "      <td>0.970</td>\n",
       "      <td>0.955</td>\n",
       "    </tr>\n",
       "  </tbody>\n",
       "</table>\n",
       "</div>"
      ],
      "text/plain": [
       "           LR1-TFIDF  LR2-TFIDF  Naive1-TFIDF  Naive2-TFIDF  AdaBoost1-TFIDF  \\\n",
       "Accuracy       0.944      0.905         0.832         0.829            0.914   \n",
       "Precision      0.943      0.897         0.831         0.830            0.930   \n",
       "Recall         0.991      0.999         1.000         0.997            0.970   \n",
       "F1 Score       0.966      0.945         0.908         0.906            0.950   \n",
       "\n",
       "           AdaBoost2-TFIDF  SVM1-TFIDF  SVM2-TFIDF  \n",
       "Accuracy             0.910       0.949       0.922  \n",
       "Precision            0.925       0.952       0.916  \n",
       "Recall               0.970       0.988       0.997  \n",
       "F1 Score             0.947       0.970       0.955  "
      ]
     },
     "execution_count": 42,
     "metadata": {},
     "output_type": "execute_result"
    }
   ],
   "source": [
    "# Compile all of the error metrics into a dataframe for comparison\n",
    "results_tf = pd.DataFrame(list(zip(cm1, cm2, cm3, cm4,cm5, cm6, cm7, cm8)))\n",
    "results_tf = results_tf.set_index([['Accuracy', 'Precision', 'Recall', 'F1 Score']])\n",
    "results_tf.columns = ['LR1-TFIDF', 'LR2-TFIDF','Naive1-TFIDF', 'Naive2-TFIDF', 'AdaBoost1-TFIDF', 'AdaBoost2-TFIDF','SVM1-TFIDF', 'SVM2-TFIDF']\n",
    "results_tf\n",
    "\n",
    "results = pd.concat([results_tf], axis=1)\n",
    "results"
   ]
  },
  {
   "cell_type": "markdown",
   "id": "2b347d02",
   "metadata": {},
   "source": [
    "By using TF-IDF we able to see that the recall and precision of the first SVM model still outperforms the other models.\n",
    "\n",
    "Overall, the first SVM model (using unigrams and counts) seems to best classify positive and negative Trip Advisor reviews."
   ]
  },
  {
   "cell_type": "code",
   "execution_count": 45,
   "id": "54da1151",
   "metadata": {},
   "outputs": [],
   "source": [
    "#saving the data\n",
    "data.to_csv('Trip_Advisor_2nd.csv')"
   ]
  },
  {
   "cell_type": "code",
   "execution_count": 46,
   "id": "ee53a089",
   "metadata": {},
   "outputs": [],
   "source": [
    "#saving df1\n",
    "df1.to_csv('Trip_df1.csv')"
   ]
  },
  {
   "cell_type": "markdown",
   "id": "222f94c5",
   "metadata": {},
   "source": [
    "Now, we will start Topic Modeling in new jupyter"
   ]
  }
 ],
 "metadata": {
  "kernelspec": {
   "display_name": "Python 3 (ipykernel)",
   "language": "python",
   "name": "python3"
  },
  "language_info": {
   "codemirror_mode": {
    "name": "ipython",
    "version": 3
   },
   "file_extension": ".py",
   "mimetype": "text/x-python",
   "name": "python",
   "nbconvert_exporter": "python",
   "pygments_lexer": "ipython3",
   "version": "3.8.12"
  }
 },
 "nbformat": 4,
 "nbformat_minor": 5
}
